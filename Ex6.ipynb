{
 "nbformat": 4,
 "nbformat_minor": 2,
 "metadata": {
  "language_info": {
   "name": "python",
   "codemirror_mode": {
    "name": "ipython",
    "version": 3
   }
  },
  "orig_nbformat": 2,
  "file_extension": ".py",
  "mimetype": "text/x-python",
  "name": "python",
  "npconvert_exporter": "python",
  "pygments_lexer": "ipython3",
  "version": 3,
  "kernelspec": {
   "name": "python3",
   "display_name": "Python 3"
  }
 },
 "cells": [
  {
   "cell_type": "code",
   "execution_count": 15,
   "metadata": {},
   "outputs": [
    {
     "name": "stdout",
     "output_type": "stream",
     "text": "############### p=2 ###############\nMy result:\nlhs: 0.8999999999999999\nrhs: 1.2999999999999998\nCheck if lhs < rhs True\n------------------------------\nMy result:\nlhs: 0.7625\nrhs: 1.2999999999999998\nCheck if lhs < rhs True\n############### p=3 ###############\nMy result:\nlhs: 0.8\nrhs: 1.0666666666666667\nCheck if lhs < rhs True\n------------------------------\nMy result:\nlhs: -0.06666666666666665\nrhs: 1.0666666666666667\nCheck if lhs < rhs True\n############### p=4 ###############\nMy result:\nlhs: 0.75\nrhs: 0.95\nCheck if lhs < rhs True\n------------------------------\nMy result:\nlhs: 0.22187500000000002\nrhs: 0.95\nCheck if lhs < rhs True\n############### p=5 ###############\nMy result:\nlhs: 0.72\nrhs: 0.8799999999999999\nCheck if lhs < rhs True\n------------------------------\nMy result:\nlhs: 0.23428571428571432\nrhs: 0.8799999999999999\nCheck if lhs < rhs True\n############### p=6 ###############\nMy result:\nlhs: 0.7\nrhs: 0.8333333333333333\nCheck if lhs < rhs True\n------------------------------\nMy result:\nlhs: 0.22916666666666669\nrhs: 0.8333333333333333\nCheck if lhs < rhs True\n############### p=7 ###############\nMy result:\nlhs: 0.6857142857142857\nrhs: 0.7999999999999999\nCheck if lhs < rhs True\n------------------------------\nMy result:\nlhs: 0.22197802197802197\nrhs: 0.7999999999999999\nCheck if lhs < rhs True\n############### p=8 ###############\nMy result:\nlhs: 0.675\nrhs: 0.7749999999999999\nCheck if lhs < rhs True\n------------------------------\nMy result:\nlhs: 0.21523437499999998\nrhs: 0.7749999999999999\nCheck if lhs < rhs True\n############### p=9 ###############\nMy result:\nlhs: 0.6666666666666666\nrhs: 0.7555555555555555\nCheck if lhs < rhs True\n------------------------------\nMy result:\nlhs: 0.20935672514619882\nrhs: 0.7555555555555555\nCheck if lhs < rhs True\n############### p=10 ###############\nMy result:\nlhs: 0.66\nrhs: 0.74\nCheck if lhs < rhs True\n------------------------------\nMy result:\nlhs: 0.2043181818181818\nrhs: 0.74\nCheck if lhs < rhs True\n############### p=11 ###############\nMy result:\nlhs: 0.6545454545454545\nrhs: 0.7272727272727273\nCheck if lhs < rhs True\n------------------------------\nMy result:\nlhs: 0.2\nrhs: 0.7272727272727273\nCheck if lhs < rhs True\n############### p=12 ###############\nMy result:\nlhs: 0.65\nrhs: 0.7166666666666667\nCheck if lhs < rhs True\n------------------------------\nMy result:\nlhs: 0.1962797619047619\nrhs: 0.7166666666666667\nCheck if lhs < rhs True\n############### p=13 ###############\nMy result:\nlhs: 0.6461538461538461\nrhs: 0.7076923076923076\nCheck if lhs < rhs True\n------------------------------\nMy result:\nlhs: 0.19305210918114143\nrhs: 0.7076923076923076\nCheck if lhs < rhs True\n############### p=14 ###############\nMy result:\nlhs: 0.6428571428571429\nrhs: 0.7\nCheck if lhs < rhs True\n------------------------------\nMy result:\nlhs: 0.1902310924369748\nrhs: 0.7\nCheck if lhs < rhs True\n############### p=15 ###############\nMy result:\nlhs: 0.64\nrhs: 0.6933333333333334\nCheck if lhs < rhs True\n------------------------------\nMy result:\nlhs: 0.18774774774774775\nrhs: 0.6933333333333334\nCheck if lhs < rhs True\n############### p=16 ###############\nMy result:\nlhs: 0.6375\nrhs: 0.6875\nCheck if lhs < rhs True\n------------------------------\nMy result:\nlhs: 0.185546875\nrhs: 0.6875\nCheck if lhs < rhs True\n############### p=17 ###############\nMy result:\nlhs: 0.6352941176470589\nrhs: 0.6823529411764706\nCheck if lhs < rhs True\n------------------------------\nMy result:\nlhs: 0.18358413132694937\nrhs: 0.6823529411764706\nCheck if lhs < rhs True\n############### p=18 ###############\nMy result:\nlhs: 0.6333333333333334\nrhs: 0.6777777777777778\nCheck if lhs < rhs True\n------------------------------\nMy result:\nlhs: 0.18182367149758452\nrhs: 0.6777777777777778\nCheck if lhs < rhs True\n############### p=19 ###############\nMy result:\nlhs: 0.631578947368421\nrhs: 0.6736842105263158\nCheck if lhs < rhs True\n------------------------------\nMy result:\nlhs: 0.18023630504833513\nrhs: 0.6736842105263158\nCheck if lhs < rhs True\n"
    }
   ],
   "source": [
    "for p in range(2, 20):\n",
    "    s = 0.3\n",
    "    k_peter = (3*p - 3)/(6*p - 4)\n",
    "    k_aleks = (6*p - 16)/(3*p - 13)\n",
    "\n",
    "    def lhs(k):\n",
    "        return s/k + (1 - s/k)/p\n",
    "\n",
    "    rhs = 2*(s + (1 - s)/p)\n",
    "\n",
    "    print(\"#\"*15+\" p={} \".format(p)+\"#\"*15)\n",
    "    print(\"My result:\")\n",
    "    print(\"lhs:\", lhs(k_peter))\n",
    "    print(\"rhs:\", rhs)\n",
    "    print(\"Check if lhs < rhs\", lhs(k_peter) < rhs)\n",
    "    print(\"-\"*30)\n",
    "    print(\"My result:\")\n",
    "    print(\"lhs:\", lhs(k_aleks))\n",
    "    print(\"rhs:\", rhs)\n",
    "    print(\"Check if lhs < rhs\", lhs(k_aleks) < rhs)"
   ]
  },
  {
   "cell_type": "code",
   "execution_count": null,
   "metadata": {},
   "outputs": [],
   "source": []
  }
 ]
}